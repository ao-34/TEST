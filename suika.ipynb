{
  "cells": [
    {
      "cell_type": "markdown",
      "metadata": {
        "id": "view-in-github",
        "colab_type": "text"
      },
      "source": [
        "<a href=\"https://colab.research.google.com/github/ao-34/TEST/blob/main/suika.ipynb\" target=\"_parent\"><img src=\"https://colab.research.google.com/assets/colab-badge.svg\" alt=\"Open In Colab\"/></a>"
      ]
    },
    {
      "cell_type": "code",
      "source": [
        "import random\n",
        "import math\n",
        "\n",
        "def calc_distance(pos1,pos2):\n",
        "  diff_x = pos1[0] - pos2[0]\n",
        "  diff_y = pos1[1] - pos2[1]\n",
        "  return math.sqrt(diff_x**2 + diff_y**2)\n",
        "\n",
        "def generate_position(BOARD_SIZE):\n",
        "  return [random.randrange(0,BOARD_SIZE),random.randrange(0,BOARD_SIZE)]\n",
        "\n",
        "def move_player(pos_c,direction):\n",
        "  if direction == \"n\":\n",
        "    pos_c[1] += -1\n",
        "  elif direction == \"s\":\n",
        "    pos_c[1] += 1\n",
        "  elif direction == \"w\":\n",
        "    pos_c[0] += - 1\n",
        "  elif direction == \"e\":\n",
        "    pos_c[0] += 1\n",
        "  return pos_c"
      ],
      "metadata": {
        "id": "O65lLpJshocC"
      },
      "execution_count": 36,
      "outputs": []
    },
    {
      "cell_type": "code",
      "source": [
        "BOARD_SIZE = 5\n",
        "suika_pos = generate_position(BOARD_SIZE)\n",
        "player_pos = generate_position(BOARD_SIZE)\n",
        "\n",
        "while suika_pos != player_pos:\n",
        "  distance = calc_distance(suika_pos,player_pos)\n",
        "  print(f\"距離は{distance}\",suika_pos,player_pos)\n",
        "  c = input(\"n:北に移動 s:南に移動 e:東に移動 w:西に移動\")\n",
        "  player_pos = move_player(player_pos,c)\n",
        "print(\"終了\")"
      ],
      "metadata": {
        "id": "WXtMHGKbh6LX",
        "outputId": "f55b9dc5-fa14-4584-8694-e05ebf01e5fa",
        "colab": {
          "base_uri": "https://localhost:8080/"
        }
      },
      "execution_count": 37,
      "outputs": [
        {
          "output_type": "stream",
          "name": "stdout",
          "text": [
            "距離は1.0 [4, 4] [3, 4]\n",
            "n:北に移動 s:南に移動 e:東に移動 w:西に移動n\n",
            "距離は1.4142135623730951 [4, 4] [3, 3]\n",
            "n:北に移動 s:南に移動 e:東に移動 w:西に移動s\n",
            "距離は1.0 [4, 4] [3, 4]\n",
            "n:北に移動 s:南に移動 e:東に移動 w:西に移動w\n",
            "距離は2.0 [4, 4] [2, 4]\n",
            "n:北に移動 s:南に移動 e:東に移動 w:西に移動e\n",
            "距離は1.0 [4, 4] [3, 4]\n",
            "n:北に移動 s:南に移動 e:東に移動 w:西に移動e\n",
            "終了\n"
          ]
        }
      ]
    }
  ],
  "metadata": {
    "colab": {
      "name": "suika",
      "provenance": [],
      "include_colab_link": true
    },
    "kernelspec": {
      "display_name": "Python 3",
      "name": "python3"
    }
  },
  "nbformat": 4,
  "nbformat_minor": 0
}