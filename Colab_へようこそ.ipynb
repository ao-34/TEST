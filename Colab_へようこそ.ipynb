{
  "cells": [
    {
      "cell_type": "markdown",
      "metadata": {
        "id": "view-in-github",
        "colab_type": "text"
      },
      "source": [
        "<a href=\"https://colab.research.google.com/github/ao-34/TEST/blob/main/Colab_%E3%81%B8%E3%82%88%E3%81%86%E3%81%93%E3%81%9D.ipynb\" target=\"_parent\"><img src=\"https://colab.research.google.com/assets/colab-badge.svg\" alt=\"Open In Colab\"/></a>"
      ]
    },
    {
      "cell_type": "code",
      "source": [
        "counter = 1\n",
        "\n",
        "while counter <= 5:\n",
        "  text = input(\"数字を入力：\")\n",
        "  number = int(text)\n",
        "  print(counter,\"回目\",number*number)\n",
        "  counter +=1\n",
        "\n",
        "  if text == 99:\n",
        "    print(\"中断\")\n",
        "    break\n",
        "\n",
        "print(\"終了\")"
      ],
      "metadata": {
        "id": "J2bO_Lb7i7b3",
        "colab": {
          "base_uri": "https://localhost:8080/"
        },
        "outputId": "4f9b1257-ab65-46c2-9803-86e1fe6e3b2b"
      },
      "execution_count": 8,
      "outputs": [
        {
          "output_type": "stream",
          "name": "stdout",
          "text": [
            "数字を入力：4\n",
            "1 回目 16\n",
            "数字を入力：5\n",
            "2 回目 25\n",
            "数字を入力：6\n",
            "3 回目 36\n",
            "数字を入力：7\n",
            "4 回目 49\n",
            "数字を入力：8\n",
            "5 回目 64\n",
            "終了\n"
          ]
        }
      ]
    },
    {
      "cell_type": "code",
      "source": [
        "99\n"
      ],
      "metadata": {
        "id": "_SPY3SuBtUbb"
      },
      "execution_count": null,
      "outputs": []
    }
  ],
  "metadata": {
    "colab": {
      "name": "Colab へようこそ",
      "provenance": [],
      "include_colab_link": true
    },
    "kernelspec": {
      "display_name": "Python 3",
      "name": "python3"
    }
  },
  "nbformat": 4,
  "nbformat_minor": 0
}