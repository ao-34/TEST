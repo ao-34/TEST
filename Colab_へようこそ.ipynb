{
  "cells": [
    {
      "cell_type": "markdown",
      "metadata": {
        "id": "view-in-github",
        "colab_type": "text"
      },
      "source": [
        "<a href=\"https://colab.research.google.com/github/ao-34/TEST/blob/main/Colab_%E3%81%B8%E3%82%88%E3%81%86%E3%81%93%E3%81%9D.ipynb\" target=\"_parent\"><img src=\"https://colab.research.google.com/assets/colab-badge.svg\" alt=\"Open In Colab\"/></a>"
      ]
    },
    {
      "cell_type": "code",
      "source": [
        "counter = 1\n",
        "\n",
        "while counter <= 5:\n",
        "  text = input(\"数字を入力：\")\n",
        "  #if text == \"\":\n",
        "   # continue\n",
        "\n",
        "  if text == \"99\":\n",
        "    print(\"中断\")\n",
        "    break\n",
        "\n",
        "  try:\n",
        "    number = float(text) # 整数と小数の両方を処理するためにfloatを使用\n",
        "    print(counter,\"回目\",number*number)\n",
        "    counter += 1\n",
        "  except ValueError:\n",
        "    print(\"無効な入力です。数値を入力してください。\") # 数値以外の入力を処理\n",
        "\n",
        "print(\"終了\")"
      ],
      "metadata": {
        "id": "J2bO_Lb7i7b3"
      },
      "execution_count": null,
      "outputs": []
    },
    {
      "cell_type": "code",
      "source": [
        "i=0\n",
        "while i<10:\n",
        "  i +=1\n",
        "\n",
        "  if(i%2)==0:\n",
        "    print(i,\"is even.\")"
      ],
      "metadata": {
        "id": "HTgnIVfKdNHb"
      },
      "execution_count": null,
      "outputs": []
    },
    {
      "cell_type": "code",
      "source": [
        "while True:\n",
        "  try:\n",
        "    num_bolt = int(input(\"ボルトの個数：\"))\n",
        "    num_nut = int(input(\"ナットの個数\"))\n",
        "    print(\"ボルト\",num_bolt,\"個、ナット\",num_nut,\"個、合計：\",num_bolt*100+num_nut*40,\"円\")\n",
        "    break\n",
        "  except:\n",
        "    print(\"入力異常：再度入力してください\")"
      ],
      "metadata": {
        "id": "CrqltVdfiR1u"
      },
      "execution_count": null,
      "outputs": []
    },
    {
      "cell_type": "code",
      "source": [
        "def total_price(num_bolt,num_nut):\n",
        "  total_bolt = num_bolt * 100\n",
        "  total_nut = num_nut * 40\n",
        "  total = total_bolt + total_nut\n",
        "  return total\n",
        "\n",
        "while True:\n",
        "  try:\n",
        "    num_bolt = int(input(\"ボルトの個数\"))\n",
        "    num_nut = int(input(\"ナットの個数\"))\n",
        "    total = total_price(num_bolt,num_nut)\n",
        "    print(\"ボルト\",num_bolt,\"個、ナット\",num_nut,\"個で合計：\",total)\n",
        "  except:\n",
        "    print(\"入力異常：再度入力してください\")\n"
      ],
      "metadata": {
        "id": "qjvU2C3npFfm"
      },
      "execution_count": null,
      "outputs": []
    },
    {
      "cell_type": "code",
      "source": [
        "global_value = 100\n",
        "\n",
        "def test_global(arg):\n",
        "  return arg * global_value\n",
        "\n",
        "print(test_global(20))"
      ],
      "metadata": {
        "id": "BesDB_rKEthQ"
      },
      "execution_count": null,
      "outputs": []
    },
    {
      "cell_type": "code",
      "source": [
        "def func1(name):\n",
        "  print(\"Hello\",name,\"this is func1\")\n",
        "\n",
        "def func2():\n",
        "  func1(\"func2\")\n",
        "\n",
        "func2()"
      ],
      "metadata": {
        "id": "SaDfQ90BLTWD"
      },
      "execution_count": null,
      "outputs": []
    },
    {
      "cell_type": "code",
      "source": [
        "import time\n",
        "\n",
        "def print_time():\n",
        "  now = time.asctime()\n",
        "  print(\"It is\",now)\n",
        "\n",
        "print_time()"
      ],
      "metadata": {
        "id": "h7EPAn-EPYu2"
      },
      "execution_count": null,
      "outputs": []
    },
    {
      "cell_type": "code",
      "source": [
        "def func(arg1, arg2, arg3):\n",
        "    print(\"arg1は:\", arg1, \"arg2は:\", arg2, \"arg3は:\", arg3)\n",
        "func(\"引数1\", arg2=\"引数２\", arg3=\"引数3\")"
      ],
      "metadata": {
        "id": "hxMDoODSP7f4"
      },
      "execution_count": null,
      "outputs": []
    },
    {
      "cell_type": "code",
      "source": [
        "cases = [100,125,110,135,93,95,95]\n",
        "index = 0\n",
        "len_cases = len(cases)\n",
        "total = 0\n",
        "\n",
        "while index <len_cases:\n",
        "    cases_of_day = cases[index]\n",
        "    total = total + cases_of_day\n",
        "    index = index +1\n",
        "print(\"合計感染者数：\",total)"
      ],
      "metadata": {
        "colab": {
          "base_uri": "https://localhost:8080/"
        },
        "id": "YKaRWhqpwcRh",
        "outputId": "f76013bb-f584-45b6-a515-0518ee3d945c"
      },
      "execution_count": null,
      "outputs": [
        {
          "output_type": "stream",
          "name": "stdout",
          "text": [
            "合計感染者数： 753\n"
          ]
        }
      ]
    },
    {
      "cell_type": "code",
      "source": [
        "cases = [100,125,110,135,93,95,93]\n",
        "total = 0\n",
        "\n",
        "for cases_of_day in cases:\n",
        "  total =total + cases_of_day\n",
        "\n",
        "print(\"合計感染者数：\",total)"
      ],
      "metadata": {
        "id": "rWxQCR53xlLH",
        "outputId": "d1d31597-3c74-4c8d-9715-066d4819766b",
        "colab": {
          "base_uri": "https://localhost:8080/"
        }
      },
      "execution_count": null,
      "outputs": [
        {
          "output_type": "stream",
          "name": "stdout",
          "text": [
            "合計感染者数： 751\n"
          ]
        }
      ]
    },
    {
      "cell_type": "code",
      "source": [
        "english_words = {\"apple\":\"りんご\",\"orange\":\"みかん\",\"peach\":\"もも\"}\n",
        "print(english_words)\n"
      ],
      "metadata": {
        "id": "Rvm9XobE0Zfo",
        "outputId": "7d571780-62f5-4573-a8ce-c5ddedca4240",
        "colab": {
          "base_uri": "https://localhost:8080/"
        }
      },
      "execution_count": null,
      "outputs": [
        {
          "output_type": "stream",
          "name": "stdout",
          "text": [
            "{'apple': 'りんご', 'orange': 'みかん', 'peach': 'もも'}\n"
          ]
        }
      ]
    },
    {
      "cell_type": "code",
      "source": [
        "dict_obj={}\n",
        "dict_obj[\"dog\"] = \"犬\"\n",
        "\n",
        "print(dict_obj)"
      ],
      "metadata": {
        "id": "nRmfExhe5t5b",
        "outputId": "bcf452cd-70b9-4f5d-e52b-5261583f0b8a",
        "colab": {
          "base_uri": "https://localhost:8080/"
        }
      },
      "execution_count": null,
      "outputs": [
        {
          "output_type": "stream",
          "name": "stdout",
          "text": [
            "{'dog': '犬'}\n"
          ]
        }
      ]
    },
    {
      "cell_type": "code",
      "source": [
        "print(len(dict_obj))"
      ],
      "metadata": {
        "id": "e3f366HE7t2Z",
        "outputId": "872896ca-d624-4354-8f54-68c3b3c50bd6",
        "colab": {
          "base_uri": "https://localhost:8080/"
        }
      },
      "execution_count": null,
      "outputs": [
        {
          "output_type": "stream",
          "name": "stdout",
          "text": [
            "1\n"
          ]
        }
      ]
    },
    {
      "cell_type": "code",
      "source": [
        "english_words = {\"apple\":\"りんご\",\"orange\":\"みかん\",\"peach\":\"もも\"}\n",
        "\n",
        "key = input(\"英単語を入力してください\")\n",
        "\n",
        "if key in english_words :\n",
        "  print(english_words[key])\n",
        "else:\n",
        "  print(\"登録されていません\")"
      ],
      "metadata": {
        "id": "N2vU-A_t8-kp",
        "outputId": "2fe6f3a4-2d01-48bb-ecb6-91c15c243de0",
        "colab": {
          "base_uri": "https://localhost:8080/"
        }
      },
      "execution_count": null,
      "outputs": [
        {
          "output_type": "stream",
          "name": "stdout",
          "text": [
            "英単語を入力してくださいorange\n",
            "みかん\n"
          ]
        }
      ]
    },
    {
      "cell_type": "code",
      "source": [
        "def total_and_average(values):\n",
        "  total = 0\n",
        "  for value in values:\n",
        "    total = total + value\n",
        "\n",
        "  num = len(values)\n",
        "\n",
        "  average = total/num\n",
        "\n",
        "  return(total,average)\n",
        "\n",
        "values = [100,200,20,50,90]\n",
        "total,average = total_and_average(values)\n",
        "print(values,\"の合計は\",total,\"平均は\",average,\"です\")"
      ],
      "metadata": {
        "id": "svIEDNjbAx7U",
        "outputId": "821fe7d9-2695-4351-af7e-c78ec004a6f1",
        "colab": {
          "base_uri": "https://localhost:8080/"
        }
      },
      "execution_count": 2,
      "outputs": [
        {
          "output_type": "stream",
          "name": "stdout",
          "text": [
            "[100, 200, 20, 50, 90] の合計は 460 平均は 92.0 です\n"
          ]
        }
      ]
    },
    {
      "cell_type": "code",
      "source": [
        "def total_and_average_and_number(values):\n",
        "  total = 0\n",
        "  for value in values:\n",
        "    total = total + value\n",
        "\n",
        "  num = len(values)\n",
        "\n",
        "  average = total/num\n",
        "\n",
        "  return(total,average,num)"
      ],
      "metadata": {
        "id": "etizMcrSesR-"
      },
      "execution_count": 3,
      "outputs": []
    },
    {
      "cell_type": "code",
      "source": [
        "values = [100,200,20,50,90]\n",
        "total,average,num = total_and_average_and_number(values)\n",
        "print(values,\"の合計は\",total,\"平均は\",average,\"データ数は\",num)"
      ],
      "metadata": {
        "id": "L58VwXhCfRt_",
        "outputId": "9de0bc57-6783-48aa-adb8-9b706dbc5fa3",
        "colab": {
          "base_uri": "https://localhost:8080/"
        }
      },
      "execution_count": 5,
      "outputs": [
        {
          "output_type": "stream",
          "name": "stdout",
          "text": [
            "[100, 200, 20, 50, 90] の合計は 460 平均は 92.0 データ数は 5\n"
          ]
        }
      ]
    },
    {
      "cell_type": "code",
      "source": [],
      "metadata": {
        "id": "550FLizCfjia"
      },
      "execution_count": null,
      "outputs": []
    }
  ],
  "metadata": {
    "colab": {
      "name": "Colab へようこそ",
      "provenance": [],
      "include_colab_link": true
    },
    "kernelspec": {
      "display_name": "Python 3",
      "name": "python3"
    }
  },
  "nbformat": 4,
  "nbformat_minor": 0
}