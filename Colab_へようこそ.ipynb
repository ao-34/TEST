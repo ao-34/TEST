{
  "cells": [
    {
      "cell_type": "markdown",
      "metadata": {
        "id": "view-in-github",
        "colab_type": "text"
      },
      "source": [
        "<a href=\"https://colab.research.google.com/github/ao-34/TEST/blob/main/Colab_%E3%81%B8%E3%82%88%E3%81%86%E3%81%93%E3%81%9D.ipynb\" target=\"_parent\"><img src=\"https://colab.research.google.com/assets/colab-badge.svg\" alt=\"Open In Colab\"/></a>"
      ]
    },
    {
      "cell_type": "code",
      "source": [
        "counter = 1\n",
        "\n",
        "while counter <= 5:\n",
        "  text = input(\"数字を入力：\")\n",
        "  if text == \"\":\n",
        "    continue\n",
        "\n",
        "  if text == \"99\":\n",
        "    print(\"中断\")\n",
        "    break\n",
        "\n",
        "  number = int(text)\n",
        "  print(counter,\"回目\",number*number)\n",
        "  counter += 1\n",
        "\n",
        "print(\"終了\")"
      ],
      "metadata": {
        "id": "J2bO_Lb7i7b3",
        "colab": {
          "base_uri": "https://localhost:8080/"
        },
        "outputId": "85cf00f4-8292-43af-b00a-8882510777f1"
      },
      "execution_count": 11,
      "outputs": [
        {
          "output_type": "stream",
          "name": "stdout",
          "text": [
            "数字を入力：\n",
            "数字を入力：\n",
            "数字を入力：99\n",
            "中断\n",
            "終了\n"
          ]
        }
      ]
    },
    {
      "cell_type": "code",
      "source": [
        "i=0\n",
        "while i<10:\n",
        "  i +=1\n",
        "\n",
        "  if(i%2)==0:\n",
        "    print(i,\"is even.\")"
      ],
      "metadata": {
        "id": "HTgnIVfKdNHb",
        "outputId": "f4f59265-a09b-4aae-f2b8-8f73368fa186",
        "colab": {
          "base_uri": "https://localhost:8080/"
        }
      },
      "execution_count": 3,
      "outputs": [
        {
          "output_type": "stream",
          "name": "stdout",
          "text": [
            "2 is even.\n",
            "4 is even.\n",
            "6 is even.\n",
            "8 is even.\n",
            "10 is even.\n"
          ]
        }
      ]
    },
    {
      "cell_type": "code",
      "source": [],
      "metadata": {
        "id": "eQu1Gl1tdeN9"
      },
      "execution_count": null,
      "outputs": []
    }
  ],
  "metadata": {
    "colab": {
      "name": "Colab へようこそ",
      "provenance": [],
      "include_colab_link": true
    },
    "kernelspec": {
      "display_name": "Python 3",
      "name": "python3"
    }
  },
  "nbformat": 4,
  "nbformat_minor": 0
}