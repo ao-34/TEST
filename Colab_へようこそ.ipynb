{
  "cells": [
    {
      "cell_type": "markdown",
      "metadata": {
        "id": "view-in-github",
        "colab_type": "text"
      },
      "source": [
        "<a href=\"https://colab.research.google.com/github/ao-34/TEST/blob/main/Colab_%E3%81%B8%E3%82%88%E3%81%86%E3%81%93%E3%81%9D.ipynb\" target=\"_parent\"><img src=\"https://colab.research.google.com/assets/colab-badge.svg\" alt=\"Open In Colab\"/></a>"
      ]
    },
    {
      "cell_type": "code",
      "source": [
        "import calendar\n",
        "calendar.prmonth(2025,6)"
      ],
      "metadata": {
        "id": "x4SNFNuf_MYS",
        "outputId": "6fb9338b-3a62-45e8-a1f5-e32491fe888d",
        "colab": {
          "base_uri": "https://localhost:8080/"
        }
      },
      "execution_count": 12,
      "outputs": [
        {
          "output_type": "stream",
          "name": "stdout",
          "text": [
            "     June 2025\n",
            "Mo Tu We Th Fr Sa Su\n",
            "                   1\n",
            " 2  3  4  5  6  7  8\n",
            " 9 10 11 12 13 14 15\n",
            "16 17 18 19 20 21 22\n",
            "23 24 25 26 27 28 29\n",
            "30\n"
          ]
        }
      ]
    },
    {
      "cell_type": "code",
      "source": [
        "height=190\n",
        "print(\"身長は\",height,\"cmです\")"
      ],
      "metadata": {
        "id": "3I02yfs4ABJl",
        "outputId": "55f2687d-54fe-4edc-a1c3-4cf6823a3899",
        "colab": {
          "base_uri": "https://localhost:8080/"
        }
      },
      "execution_count": 19,
      "outputs": [
        {
          "output_type": "stream",
          "name": "stdout",
          "text": [
            "身長は 190 cmです\n"
          ]
        }
      ]
    },
    {
      "cell_type": "code",
      "source": [
        "string=input(\"文字を入力してください：\")\n",
        "print(\"入力文字は\",string,\"です\")"
      ],
      "metadata": {
        "id": "aj4gXdAIA5eg",
        "outputId": "eef25b2f-d085-4a22-87ca-d46ec7e55126",
        "colab": {
          "base_uri": "https://localhost:8080/"
        }
      },
      "execution_count": 22,
      "outputs": [
        {
          "output_type": "stream",
          "name": "stdout",
          "text": [
            "文字を入力してください：おつ\n",
            "入力文字は おつ です\n"
          ]
        }
      ]
    },
    {
      "cell_type": "code",
      "source": [
        "text = \"lower letters\"\n",
        "uppered_text = text.upper()\n",
        "print(uppered_text)"
      ],
      "metadata": {
        "id": "JwFT9TgOBkO9",
        "outputId": "28c43770-45d7-4b32-a45a-f21f030e8e95",
        "colab": {
          "base_uri": "https://localhost:8080/"
        }
      },
      "execution_count": 25,
      "outputs": [
        {
          "output_type": "stream",
          "name": "stdout",
          "text": [
            "LOWER LETTERS\n"
          ]
        }
      ]
    },
    {
      "cell_type": "code",
      "source": [
        "text=\"the shells she sells are sea-shells,I'm sure.\"\n",
        "text.find(\"sea\")"
      ],
      "metadata": {
        "id": "fgpwWMNEKHfo",
        "outputId": "dfe0711b-28cc-4674-c156-efb66e810cdb",
        "colab": {
          "base_uri": "https://localhost:8080/"
        }
      },
      "execution_count": 27,
      "outputs": [
        {
          "output_type": "execute_result",
          "data": {
            "text/plain": [
              "25"
            ]
          },
          "metadata": {},
          "execution_count": 27
        }
      ]
    },
    {
      "cell_type": "code",
      "source": [
        "\"lower letters\".upper()"
      ],
      "metadata": {
        "id": "2BWkk856LJYl",
        "outputId": "df110b07-87f2-4ff4-dc22-4e5645e9d156",
        "colab": {
          "base_uri": "https://localhost:8080/",
          "height": 35
        }
      },
      "execution_count": 28,
      "outputs": [
        {
          "output_type": "execute_result",
          "data": {
            "text/plain": [
              "'LOWER LETTERS'"
            ],
            "application/vnd.google.colaboratory.intrinsic+json": {
              "type": "string"
            }
          },
          "metadata": {},
          "execution_count": 28
        }
      ]
    },
    {
      "cell_type": "code",
      "source": [
        "text=input(\"アルファベット大文字を入力：\")\n",
        "print(text,\"→\",text.lower())"
      ],
      "metadata": {
        "id": "NdnmWqBjMLqu",
        "outputId": "9790754f-25f5-41ff-f95f-67b0deedad0b",
        "colab": {
          "base_uri": "https://localhost:8080/"
        }
      },
      "execution_count": 30,
      "outputs": [
        {
          "output_type": "stream",
          "name": "stdout",
          "text": [
            "アルファベット大文字を入力：ASD\n",
            "ASD → asd\n"
          ]
        }
      ]
    },
    {
      "cell_type": "code",
      "source": [
        "a = input(\"得点は？\")\n",
        "\n",
        "if a.isdecimal():\n",
        "  if int(a) == 100:\n",
        "    print(a,\"点！\")\n",
        "  else:\n",
        "    print(\"残念\")\n",
        "else:\n",
        "  print(\"数字を入れてください\")"
      ],
      "metadata": {
        "id": "xi2tNHlsSfOV",
        "outputId": "b3c6ba7c-2312-4a5d-b2ba-e9bcdc4613d3",
        "colab": {
          "base_uri": "https://localhost:8080/"
        }
      },
      "execution_count": 59,
      "outputs": [
        {
          "output_type": "stream",
          "name": "stdout",
          "text": [
            "得点は？a\n",
            "数字を入れてください\n"
          ]
        }
      ]
    },
    {
      "cell_type": "code",
      "source": [
        "string=input(\"文字列入力：\")\n",
        "if string.isdecimal():\n",
        "  print(string,\"は数字\")\n",
        "elif string.isalpha():\n",
        "  print(string,\"はアルファベット\")\n",
        "else:\n",
        "  print(string,\"は数字、アルファベットではない\")"
      ],
      "metadata": {
        "id": "LOhYZvvqS4KJ",
        "outputId": "e230c02c-f2e4-4117-bbb9-1a414eb781a9",
        "colab": {
          "base_uri": "https://localhost:8080/"
        }
      },
      "execution_count": 64,
      "outputs": [
        {
          "output_type": "stream",
          "name": "stdout",
          "text": [
            "文字列入力：＠\n",
            "＠ は数字、アルファベットではない\n"
          ]
        }
      ]
    },
    {
      "cell_type": "code",
      "source": [
        "\n",
        "age = int(input(\"年齢\") )\n",
        "\n",
        "if (age <= 10) or (80 <= age):\n",
        "  print(\"乗れません\")\n",
        "else:\n",
        "  print(\"乗れます\")\n"
      ],
      "metadata": {
        "id": "k1BlXc9Oan6K",
        "outputId": "5440c54e-9310-4d1b-82c7-44d0953ab63e",
        "colab": {
          "base_uri": "https://localhost:8080/"
        }
      },
      "execution_count": 78,
      "outputs": [
        {
          "output_type": "stream",
          "name": "stdout",
          "text": [
            "年齢7\n",
            "乗れません\n"
          ]
        }
      ]
    },
    {
      "cell_type": "code",
      "source": [],
      "metadata": {
        "id": "J2bO_Lb7i7b3"
      },
      "execution_count": null,
      "outputs": []
    }
  ],
  "metadata": {
    "colab": {
      "name": "Colab へようこそ",
      "provenance": [],
      "include_colab_link": true
    },
    "kernelspec": {
      "display_name": "Python 3",
      "name": "python3"
    }
  },
  "nbformat": 4,
  "nbformat_minor": 0
}